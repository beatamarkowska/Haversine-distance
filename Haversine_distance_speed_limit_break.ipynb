{
 "cells": [
  {
   "cell_type": "code",
   "execution_count": 60,
   "id": "766ef4f2-97cf-46a6-999b-8f1f3718bf4a",
   "metadata": {
    "execution": {
     "iopub.execute_input": "2025-04-15T13:06:52.073904Z",
     "iopub.status.busy": "2025-04-15T13:06:52.073428Z",
     "iopub.status.idle": "2025-04-15T13:06:52.085465Z",
     "shell.execute_reply": "2025-04-15T13:06:52.084844Z",
     "shell.execute_reply.started": "2025-04-15T13:06:52.073880Z"
    }
   },
   "outputs": [
    {
     "ename": "ModuleNotFoundError",
     "evalue": "No module named 'sedona.sql.functions'",
     "output_type": "error",
     "traceback": [
      "\u001b[0;31m---------------------------------------------------------------------------\u001b[0m",
      "\u001b[0;31mModuleNotFoundError\u001b[0m                       Traceback (most recent call last)",
      "Cell \u001b[0;32mIn[60], line 2\u001b[0m\n\u001b[1;32m      1\u001b[0m \u001b[38;5;28;01mfrom\u001b[39;00m\u001b[38;5;250m \u001b[39m\u001b[38;5;21;01mpyspark\u001b[39;00m\u001b[38;5;21;01m.\u001b[39;00m\u001b[38;5;21;01msql\u001b[39;00m\u001b[38;5;21;01m.\u001b[39;00m\u001b[38;5;21;01mtypes\u001b[39;00m\u001b[38;5;250m \u001b[39m\u001b[38;5;28;01mimport\u001b[39;00m StructType, StructField, StringType, TimestampType, DoubleType\n\u001b[0;32m----> 2\u001b[0m \u001b[38;5;28;01mfrom\u001b[39;00m\u001b[38;5;250m \u001b[39m\u001b[38;5;21;01msedona\u001b[39;00m\u001b[38;5;21;01m.\u001b[39;00m\u001b[38;5;21;01msql\u001b[39;00m\u001b[38;5;21;01m.\u001b[39;00m\u001b[38;5;21;01mfunctions\u001b[39;00m\u001b[38;5;250m \u001b[39m\u001b[38;5;28;01mimport\u001b[39;00m ST_Point, ST_GeomFromWKT\n",
      "\u001b[0;31mModuleNotFoundError\u001b[0m: No module named 'sedona.sql.functions'"
     ]
    }
   ],
   "source": [
    "from pyspark.sql.types import StructType, StructField, StringType, TimestampType, DoubleType"
   ]
  },
  {
   "cell_type": "code",
   "execution_count": 2,
   "id": "67eba44f-1523-465a-bf85-8f35259f639a",
   "metadata": {
    "execution": {
     "iopub.execute_input": "2025-04-15T11:53:29.478192Z",
     "iopub.status.busy": "2025-04-15T11:53:29.477970Z",
     "iopub.status.idle": "2025-04-15T11:53:51.851397Z",
     "shell.execute_reply": "2025-04-15T11:53:51.850850Z",
     "shell.execute_reply.started": "2025-04-15T11:53:29.478176Z"
    }
   },
   "outputs": [
    {
     "name": "stderr",
     "output_type": "stream",
     "text": [
      "Setting default log level to \"WARN\".\n",
      "To adjust logging level use sc.setLogLevel(newLevel). For SparkR, use setLogLevel(newLevel).\n",
      "                                                                                \r"
     ]
    }
   ],
   "source": [
    "from sedona.spark import *\n",
    "\n",
    "config = SedonaContext.builder().getOrCreate()\n",
    "sedona = SedonaContext.create(config)"
   ]
  },
  {
   "cell_type": "code",
   "execution_count": 58,
   "id": "f9bbd9bb-3637-4edd-8572-c0fb592627a9",
   "metadata": {
    "execution": {
     "iopub.execute_input": "2025-04-15T13:02:31.541274Z",
     "iopub.status.busy": "2025-04-15T13:02:31.541019Z",
     "iopub.status.idle": "2025-04-15T13:02:31.544226Z",
     "shell.execute_reply": "2025-04-15T13:02:31.543701Z",
     "shell.execute_reply.started": "2025-04-15T13:02:31.541259Z"
    }
   },
   "outputs": [],
   "source": [
    "from pyspark.sql.types import StructType, StructField, StringType, DoubleType, TimestampType\n",
    "from pyspark.sql.window import Window\n",
    "from pyspark.sql import functions as F\n",
    "import datetime, math"
   ]
  },
  {
   "cell_type": "code",
   "execution_count": 59,
   "id": "4b8f1299-72d3-4167-8d67-f6f791300c14",
   "metadata": {
    "execution": {
     "iopub.execute_input": "2025-04-15T13:02:32.356056Z",
     "iopub.status.busy": "2025-04-15T13:02:32.355798Z",
     "iopub.status.idle": "2025-04-15T13:02:32.360892Z",
     "shell.execute_reply": "2025-04-15T13:02:32.360529Z",
     "shell.execute_reply.started": "2025-04-15T13:02:32.356038Z"
    }
   },
   "outputs": [],
   "source": [
    "data = [\n",
    "    # USER 1\n",
    "    (\"u1\", datetime.datetime(2025, 4, 14, 8, 0), 21.00, 52.00),\n",
    "    (\"u1\", datetime.datetime(2025, 4, 14, 8, 1), 21.05, 52.05),   \n",
    "    (\"u1\", datetime.datetime(2025, 4, 14, 8, 2), 21.06, 52.06),\n",
    "    (\"u1\", datetime.datetime(2025, 4, 14, 8, 3), 21.07, 52.07),\n",
    "    (\"u1\", datetime.datetime(2025, 4, 14, 8, 4), 21.10, 52.08),\n",
    "    (\"u1\", datetime.datetime(2025, 4, 14, 8, 5), 21.13, 52.09),\n",
    "    (\"u1\", datetime.datetime(2025, 4, 14, 8, 6), 21.14, 52.10),\n",
    "    (\"u1\", datetime.datetime(2025, 4, 14, 8, 7), 21.15, 52.10),\n",
    "    (\"u1\", datetime.datetime(2025, 4, 14, 8, 8), 21.16, 52.10),\n",
    "    (\"u1\", datetime.datetime(2025, 4, 14, 8, 9), 21.17, 52.11),\n",
    "\n",
    "    # USER 2\n",
    "    (\"u2\", datetime.datetime(2025, 4, 14, 9, 0), 20.00, 51.00),\n",
    "    (\"u2\", datetime.datetime(2025, 4, 14, 9, 2), 20.01, 51.01),\n",
    "    (\"u2\", datetime.datetime(2025, 4, 14, 9, 3), 20.02, 51.01),\n",
    "    (\"u2\", datetime.datetime(2025, 4, 14, 9, 4), 20.03, 51.01),\n",
    "    (\"u2\", datetime.datetime(2025, 4, 14, 9, 5), 20.05, 51.02),\n",
    "    (\"u2\", datetime.datetime(2025, 4, 14, 9, 6), 20.10, 51.03),\n",
    "    (\"u2\", datetime.datetime(2025, 4, 14, 9, 7), 20.50, 51.10),  \n",
    "    (\"u2\", datetime.datetime(2025, 4, 14, 9, 8), 20.51, 51.11),\n",
    "    (\"u2\", datetime.datetime(2025, 4, 14, 9, 9), 20.52, 51.12),\n",
    "    (\"u2\", datetime.datetime(2025, 4, 14, 9, 10), 20.53, 51.13),\n",
    "]\n"
   ]
  },
  {
   "cell_type": "code",
   "execution_count": 49,
   "id": "1b25b12c-3abb-4589-828d-b6a963c7d902",
   "metadata": {
    "execution": {
     "iopub.execute_input": "2025-04-15T12:39:34.136421Z",
     "iopub.status.busy": "2025-04-15T12:39:34.136178Z",
     "iopub.status.idle": "2025-04-15T12:39:34.151598Z",
     "shell.execute_reply": "2025-04-15T12:39:34.151091Z",
     "shell.execute_reply.started": "2025-04-15T12:39:34.136404Z"
    }
   },
   "outputs": [],
   "source": [
    "schema = StructType([\n",
    "    StructField(\"user_id\", StringType(), True),\n",
    "    StructField(\"timestamp\", TimestampType(), True),\n",
    "    StructField(\"lon\", DoubleType(), True),\n",
    "    StructField(\"lat\", DoubleType(), True)\n",
    "])\n",
    "\n",
    "# Tworzenie DataFrame\n",
    "df = sedona.createDataFrame(data, schema)"
   ]
  },
  {
   "cell_type": "code",
   "execution_count": 50,
   "id": "e8494ba2-f935-428c-8979-fefb02bc4c31",
   "metadata": {
    "execution": {
     "iopub.execute_input": "2025-04-15T12:39:45.021009Z",
     "iopub.status.busy": "2025-04-15T12:39:45.020792Z",
     "iopub.status.idle": "2025-04-15T12:39:45.418279Z",
     "shell.execute_reply": "2025-04-15T12:39:45.417797Z",
     "shell.execute_reply.started": "2025-04-15T12:39:45.020991Z"
    }
   },
   "outputs": [
    {
     "name": "stdout",
     "output_type": "stream",
     "text": [
      "+-------+-------------------+-----+-----+\n",
      "|user_id|          timestamp|  lon|  lat|\n",
      "+-------+-------------------+-----+-----+\n",
      "|     u1|2025-04-14 08:00:00| 21.0| 52.0|\n",
      "|     u1|2025-04-14 08:01:00|21.05|52.05|\n",
      "|     u1|2025-04-14 08:02:00|21.06|52.06|\n",
      "|     u1|2025-04-14 08:03:00|21.07|52.07|\n",
      "|     u1|2025-04-14 08:04:00| 21.1|52.08|\n",
      "|     u1|2025-04-14 08:05:00|21.13|52.09|\n",
      "|     u1|2025-04-14 08:06:00|21.14| 52.1|\n",
      "|     u1|2025-04-14 08:07:00|21.15| 52.1|\n",
      "|     u1|2025-04-14 08:08:00|21.16| 52.1|\n",
      "|     u1|2025-04-14 08:09:00|21.17|52.11|\n",
      "|     u2|2025-04-14 09:00:00| 20.0| 51.0|\n",
      "|     u2|2025-04-14 09:02:00|20.01|51.01|\n",
      "|     u2|2025-04-14 09:03:00|20.02|51.01|\n",
      "|     u2|2025-04-14 09:04:00|20.03|51.01|\n",
      "|     u2|2025-04-14 09:05:00|20.05|51.02|\n",
      "|     u2|2025-04-14 09:06:00| 20.1|51.03|\n",
      "|     u2|2025-04-14 09:07:00| 20.5| 51.1|\n",
      "|     u2|2025-04-14 09:08:00|20.51|51.11|\n",
      "|     u2|2025-04-14 09:09:00|20.52|51.12|\n",
      "|     u2|2025-04-14 09:10:00|20.53|51.13|\n",
      "+-------+-------------------+-----+-----+\n",
      "\n"
     ]
    }
   ],
   "source": [
    "df.show()"
   ]
  },
  {
   "cell_type": "code",
   "execution_count": 51,
   "id": "9c4856b8-7a48-4b8b-987d-a72d04ec0d6d",
   "metadata": {
    "execution": {
     "iopub.execute_input": "2025-04-15T12:44:16.904618Z",
     "iopub.status.busy": "2025-04-15T12:44:16.904417Z",
     "iopub.status.idle": "2025-04-15T12:44:16.908083Z",
     "shell.execute_reply": "2025-04-15T12:44:16.907570Z",
     "shell.execute_reply.started": "2025-04-15T12:44:16.904604Z"
    }
   },
   "outputs": [
    {
     "name": "stdout",
     "output_type": "stream",
     "text": [
      "root\n",
      " |-- user_id: string (nullable = true)\n",
      " |-- timestamp: timestamp (nullable = true)\n",
      " |-- lon: double (nullable = true)\n",
      " |-- lat: double (nullable = true)\n",
      "\n"
     ]
    }
   ],
   "source": [
    "df.printSchema()"
   ]
  },
  {
   "cell_type": "code",
   "execution_count": 52,
   "id": "cd05cc34-3432-4795-8a64-0943532ee0cd",
   "metadata": {
    "execution": {
     "iopub.execute_input": "2025-04-15T12:46:52.598653Z",
     "iopub.status.busy": "2025-04-15T12:46:52.598438Z",
     "iopub.status.idle": "2025-04-15T12:46:52.625263Z",
     "shell.execute_reply": "2025-04-15T12:46:52.624864Z",
     "shell.execute_reply.started": "2025-04-15T12:46:52.598637Z"
    }
   },
   "outputs": [],
   "source": [
    "# Okno\n",
    "window_spec = Window.partitionBy(\"user_id\").orderBy(\"timestamp\")\n",
    "\n",
    "# 🚀 Dodanie różnic czasowych i współrzędnych\n",
    "df = df.withColumn(\"prev_lat\", F.lag(\"lat\").over(window_spec)) \\\n",
    "       .withColumn(\"prev_lon\", F.lag(\"lon\").over(window_spec)) \\\n",
    "       .withColumn(\"time_diff_min\", \n",
    "                   (F.unix_timestamp(\"timestamp\") - F.unix_timestamp(F.lag(\"timestamp\").over(window_spec))) / 60)"
   ]
  },
  {
   "cell_type": "code",
   "execution_count": 61,
   "id": "5e88c97e-e740-4f37-abf1-0a8e16a02f1c",
   "metadata": {
    "execution": {
     "iopub.execute_input": "2025-04-15T13:07:42.273370Z",
     "iopub.status.busy": "2025-04-15T13:07:42.273119Z",
     "iopub.status.idle": "2025-04-15T13:07:42.283090Z",
     "shell.execute_reply": "2025-04-15T13:07:42.282699Z",
     "shell.execute_reply.started": "2025-04-15T13:07:42.273353Z"
    }
   },
   "outputs": [],
   "source": [
    "df = df.withColumn(\"geom\", ST_Point(F.col(\"lon\"), F.col(\"lat\")))"
   ]
  },
  {
   "cell_type": "code",
   "execution_count": 62,
   "id": "b7301d2d-be4a-46ba-aeb3-2b04103c26c5",
   "metadata": {
    "execution": {
     "iopub.execute_input": "2025-04-15T13:07:43.157499Z",
     "iopub.status.busy": "2025-04-15T13:07:43.157248Z",
     "iopub.status.idle": "2025-04-15T13:07:43.580161Z",
     "shell.execute_reply": "2025-04-15T13:07:43.579620Z",
     "shell.execute_reply.started": "2025-04-15T13:07:43.157482Z"
    }
   },
   "outputs": [
    {
     "name": "stdout",
     "output_type": "stream",
     "text": [
      "+-------+-------------------+-----+-----+--------+--------+-------------+------------------+------------------+-------------------+\n",
      "|user_id|          timestamp|  lon|  lat|prev_lat|prev_lon|time_diff_min|       distance_km|         speed_kmh|               geom|\n",
      "+-------+-------------------+-----+-----+--------+--------+-------------+------------------+------------------+-------------------+\n",
      "|     u1|2025-04-14 08:00:00| 21.0| 52.0|    NULL|    NULL|         NULL|              NULL|              NULL|      POINT (21 52)|\n",
      "|     u1|2025-04-14 08:01:00|21.05|52.05|    52.0|    21.0|          1.0|6.5279461995612955| 391.6767719736777|POINT (21.05 52.05)|\n",
      "|     u1|2025-04-14 08:02:00|21.06|52.06|   52.05|   21.05|          1.0| 1.305348806210964| 78.32092837265783|POINT (21.06 52.06)|\n",
      "|     u1|2025-04-14 08:03:00|21.07|52.07|   52.06|   21.06|          1.0|1.3052686420224018| 78.31611852134411|POINT (21.07 52.07)|\n",
      "|     u1|2025-04-14 08:04:00| 21.1|52.08|   52.07|   21.07|          1.0| 2.332424337801054|139.94546026806324| POINT (21.1 52.08)|\n",
      "|     u1|2025-04-14 08:05:00|21.13|52.09|   52.08|    21.1|          1.0| 2.332020608948471|139.92123653690828|POINT (21.13 52.09)|\n",
      "|     u1|2025-04-14 08:06:00|21.14| 52.1|   52.09|   21.13|          1.0|1.3050281622250017|  78.3016897335001| POINT (21.14 52.1)|\n",
      "|     u1|2025-04-14 08:07:00|21.15| 52.1|    52.1|   21.14|          1.0|0.6830539770984496| 40.98323862590698| POINT (21.15 52.1)|\n",
      "|     u1|2025-04-14 08:08:00|21.16| 52.1|    52.1|   21.15|          1.0|0.6830539770986922| 40.98323862592153| POINT (21.16 52.1)|\n",
      "|     u1|2025-04-14 08:09:00|21.17|52.11|    52.1|   21.16|          1.0|1.3049480065819543| 78.29688039491725|POINT (21.17 52.11)|\n",
      "|     u2|2025-04-14 09:00:00| 20.0| 51.0|    NULL|    NULL|         NULL|              NULL|              NULL|      POINT (20 51)|\n",
      "|     u2|2025-04-14 09:02:00|20.01|51.01|    51.0|    20.0|          2.0|1.3137758416831826| 39.41327525049548|POINT (20.01 51.01)|\n",
      "|     u2|2025-04-14 09:03:00|20.02|51.01|   51.01|   20.01|          1.0|0.6996215139100683|  41.9772908346041|POINT (20.02 51.01)|\n",
      "|     u2|2025-04-14 09:04:00|20.03|51.01|   51.01|   20.02|          1.0|0.6996215139103169| 41.97729083461901|POINT (20.03 51.01)|\n",
      "|     u2|2025-04-14 09:05:00|20.05|51.02|   51.01|   20.03|          1.0|1.7871457858897948|107.22874715338769|POINT (20.05 51.02)|\n",
      "|     u2|2025-04-14 09:06:00| 20.1|51.03|   51.02|   20.05|          1.0| 3.669505765199543|220.17034591197256| POINT (20.1 51.03)|\n",
      "|     u2|2025-04-14 09:07:00| 20.5| 51.1|   51.03|    20.1|          1.0|29.015135360648657|1740.9081216389195|  POINT (20.5 51.1)|\n",
      "|     u2|2025-04-14 09:08:00|20.51|51.11|    51.1|    20.5|          1.0|1.3129725838961315|  78.7783550337679|POINT (20.51 51.11)|\n",
      "|     u2|2025-04-14 09:09:00|20.52|51.12|   51.11|   20.51|          1.0|  1.31289226429616|  78.7735358577696|POINT (20.52 51.12)|\n",
      "|     u2|2025-04-14 09:10:00|20.53|51.13|   51.12|   20.52|          1.0| 1.312811945860533| 78.76871675163198|POINT (20.53 51.13)|\n",
      "+-------+-------------------+-----+-----+--------+--------+-------------+------------------+------------------+-------------------+\n",
      "\n"
     ]
    }
   ],
   "source": [
    "df.show()"
   ]
  },
  {
   "cell_type": "code",
   "execution_count": 79,
   "id": "4684f701-7b92-44ff-8f0d-470f464d3d7c",
   "metadata": {
    "execution": {
     "iopub.execute_input": "2025-04-15T13:21:59.957361Z",
     "iopub.status.busy": "2025-04-15T13:21:59.957121Z",
     "iopub.status.idle": "2025-04-15T13:22:00.403849Z",
     "shell.execute_reply": "2025-04-15T13:22:00.403302Z",
     "shell.execute_reply.started": "2025-04-15T13:21:59.957342Z"
    }
   },
   "outputs": [
    {
     "name": "stdout",
     "output_type": "stream",
     "text": [
      "User Guide: https://docs.kepler.gl/docs/keplergl-jupyter\n"
     ]
    },
    {
     "name": "stderr",
     "output_type": "stream",
     "text": [
      "/opt/conda/envs/wherobots/lib/python3.11/site-packages/jupyter_client/session.py:719: UserWarning: Message serialization failed with:\n",
      "Out of range float values are not JSON compliant\n",
      "Supporting this message is deprecated in jupyter-client 7, please make sure your message is JSON-compliant\n",
      "  content = self.pack(content)\n"
     ]
    },
    {
     "data": {
      "application/vnd.jupyter.widget-view+json": {
       "model_id": "960fa2141d094c46b201451e9c3dbbeb",
       "version_major": 2,
       "version_minor": 0
      },
      "text/plain": [
       "KeplerGl(data={'speed points': {'index': [0, 1, 2, 3, 4, 5, 6, 7, 8, 9, 10, 11, 12, 13, 14, 15, 16, 17, 18, 19…"
      ]
     },
     "execution_count": 79,
     "metadata": {},
     "output_type": "execute_result"
    }
   ],
   "source": [
    "SedonaKepler.create_map(df, \"speed points\")"
   ]
  },
  {
   "cell_type": "code",
   "execution_count": 64,
   "id": "8ea8ff4c-5d74-4f0e-abd6-15cf092953ab",
   "metadata": {
    "execution": {
     "iopub.execute_input": "2025-04-15T13:09:32.197201Z",
     "iopub.status.busy": "2025-04-15T13:09:32.196981Z",
     "iopub.status.idle": "2025-04-15T13:09:32.201501Z",
     "shell.execute_reply": "2025-04-15T13:09:32.200970Z",
     "shell.execute_reply.started": "2025-04-15T13:09:32.197183Z"
    }
   },
   "outputs": [],
   "source": [
    "def haversine(lat1, lon1, lat2, lon2):\n",
    "    if None in (lat1, lon1, lat2, lon2):\n",
    "        return None\n",
    "    R = 6371\n",
    "    phi1, phi2 = math.radians(lat1), math.radians(lat2)\n",
    "    d_phi = math.radians(lat2 - lat1)\n",
    "    d_lambda = math.radians(lon2 - lon1)\n",
    "    a = math.sin(d_phi / 2)**2 + math.cos(phi1) * math.cos(phi2) * math.sin(d_lambda / 2)**2\n",
    "    c = 2 * math.atan2(math.sqrt(a), math.sqrt(1 - a))\n",
    "    return R * c\n",
    "\n",
    "haversine_udf = F.udf(haversine, DoubleType())"
   ]
  },
  {
   "cell_type": "code",
   "execution_count": 72,
   "id": "15919575-7bda-4fec-ab21-c8f4beba23e6",
   "metadata": {
    "execution": {
     "iopub.execute_input": "2025-04-15T13:14:24.365814Z",
     "iopub.status.busy": "2025-04-15T13:14:24.365570Z",
     "iopub.status.idle": "2025-04-15T13:14:24.386060Z",
     "shell.execute_reply": "2025-04-15T13:14:24.385602Z",
     "shell.execute_reply.started": "2025-04-15T13:14:24.365797Z"
    }
   },
   "outputs": [],
   "source": [
    "df = df.withColumn(\"distance_km\", haversine_udf(\"lat\", \"lon\", \"prev_lat\", \"prev_lon\")) \\\n",
    "       .withColumn(\"speed_kmh\", (F.col(\"distance_km\") / F.col(\"time_diff_min\")) * 60)"
   ]
  },
  {
   "cell_type": "code",
   "execution_count": 74,
   "id": "d61439a1-8f14-4753-a26d-811c6cb30a37",
   "metadata": {
    "execution": {
     "iopub.execute_input": "2025-04-15T13:15:07.876816Z",
     "iopub.status.busy": "2025-04-15T13:15:07.876519Z",
     "iopub.status.idle": "2025-04-15T13:15:08.240886Z",
     "shell.execute_reply": "2025-04-15T13:15:08.240472Z",
     "shell.execute_reply.started": "2025-04-15T13:15:07.876794Z"
    }
   },
   "outputs": [
    {
     "name": "stdout",
     "output_type": "stream",
     "text": [
      "+-------+-------------------+-----+-----+-------------+------------------+------------------+-------------------+\n",
      "|user_id|timestamp          |lon  |lat  |time_diff_min|distance_km       |speed_kmh         |geom               |\n",
      "+-------+-------------------+-----+-----+-------------+------------------+------------------+-------------------+\n",
      "|u1     |2025-04-14 08:00:00|21.0 |52.0 |NULL         |NULL              |NULL              |POINT (21 52)      |\n",
      "|u1     |2025-04-14 08:01:00|21.05|52.05|1.0          |6.5279461995612955|391.6767719736777 |POINT (21.05 52.05)|\n",
      "|u1     |2025-04-14 08:02:00|21.06|52.06|1.0          |1.305348806210964 |78.32092837265783 |POINT (21.06 52.06)|\n",
      "|u1     |2025-04-14 08:03:00|21.07|52.07|1.0          |1.3052686420224018|78.31611852134411 |POINT (21.07 52.07)|\n",
      "|u1     |2025-04-14 08:04:00|21.1 |52.08|1.0          |2.332424337801054 |139.94546026806324|POINT (21.1 52.08) |\n",
      "|u1     |2025-04-14 08:05:00|21.13|52.09|1.0          |2.332020608948471 |139.92123653690828|POINT (21.13 52.09)|\n",
      "|u1     |2025-04-14 08:06:00|21.14|52.1 |1.0          |1.3050281622250017|78.3016897335001  |POINT (21.14 52.1) |\n",
      "|u1     |2025-04-14 08:07:00|21.15|52.1 |1.0          |0.6830539770984496|40.98323862590698 |POINT (21.15 52.1) |\n",
      "|u1     |2025-04-14 08:08:00|21.16|52.1 |1.0          |0.6830539770986922|40.98323862592153 |POINT (21.16 52.1) |\n",
      "|u1     |2025-04-14 08:09:00|21.17|52.11|1.0          |1.3049480065819543|78.29688039491725 |POINT (21.17 52.11)|\n",
      "|u2     |2025-04-14 09:00:00|20.0 |51.0 |NULL         |NULL              |NULL              |POINT (20 51)      |\n",
      "|u2     |2025-04-14 09:02:00|20.01|51.01|2.0          |1.3137758416831826|39.41327525049548 |POINT (20.01 51.01)|\n",
      "|u2     |2025-04-14 09:03:00|20.02|51.01|1.0          |0.6996215139100683|41.9772908346041  |POINT (20.02 51.01)|\n",
      "|u2     |2025-04-14 09:04:00|20.03|51.01|1.0          |0.6996215139103169|41.97729083461901 |POINT (20.03 51.01)|\n",
      "|u2     |2025-04-14 09:05:00|20.05|51.02|1.0          |1.7871457858897948|107.22874715338769|POINT (20.05 51.02)|\n",
      "|u2     |2025-04-14 09:06:00|20.1 |51.03|1.0          |3.669505765199543 |220.17034591197256|POINT (20.1 51.03) |\n",
      "|u2     |2025-04-14 09:07:00|20.5 |51.1 |1.0          |29.015135360648657|1740.9081216389195|POINT (20.5 51.1)  |\n",
      "|u2     |2025-04-14 09:08:00|20.51|51.11|1.0          |1.3129725838961315|78.7783550337679  |POINT (20.51 51.11)|\n",
      "|u2     |2025-04-14 09:09:00|20.52|51.12|1.0          |1.31289226429616  |78.7735358577696  |POINT (20.52 51.12)|\n",
      "|u2     |2025-04-14 09:10:00|20.53|51.13|1.0          |1.312811945860533 |78.76871675163198 |POINT (20.53 51.13)|\n",
      "+-------+-------------------+-----+-----+-------------+------------------+------------------+-------------------+\n",
      "\n"
     ]
    }
   ],
   "source": [
    "df.select(\"user_id\", \"timestamp\", \"lon\", \"lat\", \"time_diff_min\", \"distance_km\", \"speed_kmh\", \"geom\") \\\n",
    "  .orderBy(\"user_id\", \"timestamp\") \\\n",
    "  .show(30, truncate=False)"
   ]
  },
  {
   "cell_type": "code",
   "execution_count": 75,
   "id": "847a30f0-7213-4041-819f-898a19872e72",
   "metadata": {
    "execution": {
     "iopub.execute_input": "2025-04-15T13:15:51.157606Z",
     "iopub.status.busy": "2025-04-15T13:15:51.157369Z",
     "iopub.status.idle": "2025-04-15T13:15:51.590548Z",
     "shell.execute_reply": "2025-04-15T13:15:51.589781Z",
     "shell.execute_reply.started": "2025-04-15T13:15:51.157587Z"
    }
   },
   "outputs": [
    {
     "name": "stdout",
     "output_type": "stream",
     "text": [
      "+-------+-------------------+--------+--------+-----+-----+-------------------+-------------+------------------+------------------+\n",
      "|user_id|timestamp          |prev_lon|prev_lat|lon  |lat  |geom               |time_diff_min|distance_km       |speed_kmh         |\n",
      "+-------+-------------------+--------+--------+-----+-----+-------------------+-------------+------------------+------------------+\n",
      "|u1     |2025-04-14 08:01:00|21.0    |52.0    |21.05|52.05|POINT (21.05 52.05)|1.0          |6.5279461995612955|391.6767719736777 |\n",
      "|u1     |2025-04-14 08:04:00|21.07   |52.07   |21.1 |52.08|POINT (21.1 52.08) |1.0          |2.332424337801054 |139.94546026806324|\n",
      "|u1     |2025-04-14 08:05:00|21.1    |52.08   |21.13|52.09|POINT (21.13 52.09)|1.0          |2.332020608948471 |139.92123653690828|\n",
      "|u2     |2025-04-14 09:05:00|20.03   |51.01   |20.05|51.02|POINT (20.05 51.02)|1.0          |1.7871457858897948|107.22874715338769|\n",
      "|u2     |2025-04-14 09:06:00|20.05   |51.02   |20.1 |51.03|POINT (20.1 51.03) |1.0          |3.669505765199543 |220.17034591197256|\n",
      "|u2     |2025-04-14 09:07:00|20.1    |51.03   |20.5 |51.1 |POINT (20.5 51.1)  |1.0          |29.015135360648657|1740.9081216389195|\n",
      "+-------+-------------------+--------+--------+-----+-----+-------------------+-------------+------------------+------------------+\n",
      "\n"
     ]
    }
   ],
   "source": [
    "df.filter(F.col(\"speed_kmh\") > 100) \\\n",
    "  .select(\"user_id\", \"timestamp\", \"prev_lon\", \"prev_lat\", \"lon\", \"lat\", \"geom\",\n",
    "          \"time_diff_min\", \"distance_km\", \"speed_kmh\") \\\n",
    "  .orderBy(\"user_id\", \"timestamp\") \\\n",
    "  .show(truncate=False)"
   ]
  },
  {
   "cell_type": "code",
   "execution_count": 76,
   "id": "686bf8d8-c60f-4214-a655-f116a8d1c548",
   "metadata": {
    "execution": {
     "iopub.execute_input": "2025-04-15T13:16:31.308876Z",
     "iopub.status.busy": "2025-04-15T13:16:31.308599Z",
     "iopub.status.idle": "2025-04-15T13:16:31.727621Z",
     "shell.execute_reply": "2025-04-15T13:16:31.727106Z",
     "shell.execute_reply.started": "2025-04-15T13:16:31.308858Z"
    }
   },
   "outputs": [
    {
     "name": "stdout",
     "output_type": "stream",
     "text": [
      "+-------+-------------------+--------+--------+-------------------+-----+-----+-------------+------------------+------------------+\n",
      "|user_id|timestamp          |prev_lon|prev_lat|geom               |lon  |lat  |time_diff_min|distance_km       |speed_kmh         |\n",
      "+-------+-------------------+--------+--------+-------------------+-----+-----+-------------+------------------+------------------+\n",
      "|u1     |2025-04-14 08:01:00|21.0    |52.0    |POINT (21.05 52.05)|21.05|52.05|1.0          |6.5279461995612955|391.6767719736777 |\n",
      "|u1     |2025-04-14 08:04:00|21.07   |52.07   |POINT (21.1 52.08) |21.1 |52.08|1.0          |2.332424337801054 |139.94546026806324|\n",
      "|u1     |2025-04-14 08:05:00|21.1    |52.08   |POINT (21.13 52.09)|21.13|52.09|1.0          |2.332020608948471 |139.92123653690828|\n",
      "|u2     |2025-04-14 09:05:00|20.03   |51.01   |POINT (20.05 51.02)|20.05|51.02|1.0          |1.7871457858897948|107.22874715338769|\n",
      "|u2     |2025-04-14 09:06:00|20.05   |51.02   |POINT (20.1 51.03) |20.1 |51.03|1.0          |3.669505765199543 |220.17034591197256|\n",
      "|u2     |2025-04-14 09:07:00|20.1    |51.03   |POINT (20.5 51.1)  |20.5 |51.1 |1.0          |29.015135360648657|1740.9081216389195|\n",
      "+-------+-------------------+--------+--------+-------------------+-----+-----+-------------+------------------+------------------+\n",
      "\n"
     ]
    }
   ],
   "source": [
    "df_speeding = df.filter(F.col(\"speed_kmh\") > 100) \\\n",
    "  .select(\n",
    "      \"user_id\", \n",
    "      \"timestamp\", \n",
    "      \"prev_lon\", \n",
    "      \"prev_lat\", \n",
    "      \"geom\",\n",
    "      \"lon\", \n",
    "      \"lat\", \n",
    "      \"time_diff_min\", \n",
    "      \"distance_km\", \n",
    "      \"speed_kmh\"\n",
    "  ) \\\n",
    "  .orderBy(\"user_id\", \"timestamp\")\n",
    "\n",
    "df_speeding.show(truncate=False)"
   ]
  },
  {
   "cell_type": "code",
   "execution_count": 78,
   "id": "aeed2a1d-3bee-4d8b-9ab7-bb857e4d471c",
   "metadata": {
    "execution": {
     "iopub.execute_input": "2025-04-15T13:17:27.833207Z",
     "iopub.status.busy": "2025-04-15T13:17:27.832971Z",
     "iopub.status.idle": "2025-04-15T13:17:28.222137Z",
     "shell.execute_reply": "2025-04-15T13:17:28.221545Z",
     "shell.execute_reply.started": "2025-04-15T13:17:27.833189Z"
    }
   },
   "outputs": [
    {
     "data": {
      "text/plain": [
       "6"
      ]
     },
     "execution_count": 78,
     "metadata": {},
     "output_type": "execute_result"
    }
   ],
   "source": [
    "df_speeding.count()"
   ]
  },
  {
   "cell_type": "code",
   "execution_count": 77,
   "id": "48536e97-14b8-47ff-8390-2c7efef6bc83",
   "metadata": {
    "execution": {
     "iopub.execute_input": "2025-04-15T13:16:52.525700Z",
     "iopub.status.busy": "2025-04-15T13:16:52.525470Z",
     "iopub.status.idle": "2025-04-15T13:16:53.249302Z",
     "shell.execute_reply": "2025-04-15T13:16:53.248679Z",
     "shell.execute_reply.started": "2025-04-15T13:16:52.525682Z"
    }
   },
   "outputs": [
    {
     "name": "stdout",
     "output_type": "stream",
     "text": [
      "User Guide: https://docs.kepler.gl/docs/keplergl-jupyter\n"
     ]
    },
    {
     "data": {
      "application/vnd.jupyter.widget-view+json": {
       "model_id": "4ebf9440dcb64398acf31c7c27cb4015",
       "version_major": 2,
       "version_minor": 0
      },
      "text/plain": [
       "KeplerGl(data={'speeding points': {'index': [0, 1, 2, 3, 4, 5], 'columns': ['user_id', 'timestamp', 'prev_lon'…"
      ]
     },
     "execution_count": 77,
     "metadata": {},
     "output_type": "execute_result"
    }
   ],
   "source": [
    "SedonaKepler.create_map(df_speeding, \"speeding points\")"
   ]
  },
  {
   "cell_type": "code",
   "execution_count": null,
   "id": "ba5bc362-5911-4ef8-88a8-eb1952e4eb03",
   "metadata": {},
   "outputs": [],
   "source": []
  }
 ],
 "metadata": {
  "kernelspec": {
   "display_name": "Python 3 (ipykernel)",
   "language": "python",
   "name": "python3"
  },
  "language_info": {
   "codemirror_mode": {
    "name": "ipython",
    "version": 3
   },
   "file_extension": ".py",
   "mimetype": "text/x-python",
   "name": "python",
   "nbconvert_exporter": "python",
   "pygments_lexer": "ipython3",
   "version": "3.11.12"
  }
 },
 "nbformat": 4,
 "nbformat_minor": 5
}
